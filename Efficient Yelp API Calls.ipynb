{
 "cells": [
  {
   "cell_type": "markdown",
   "id": "63222852",
   "metadata": {},
   "source": [
    "# Yelp Search in Austin, TX"
   ]
  },
  {
   "cell_type": "code",
   "execution_count": 134,
   "id": "991a44a2",
   "metadata": {},
   "outputs": [],
   "source": [
    "#Importing necessary libraries\n",
    "import pandas as pd\n",
    "import numpy as np\n",
    "import matplotlib.pyplot as plt\n",
    "import seaborn as sns\n",
    "from tqdm.notebook import tqdm_notebook\n",
    "import os, math, json, time\n",
    "from yelpapi import YelpAPI"
   ]
  },
  {
   "cell_type": "markdown",
   "id": "6f88f3c7",
   "metadata": {},
   "source": [
    "# Credentials and Accessing the API\n"
   ]
  },
  {
   "cell_type": "code",
   "execution_count": 135,
   "id": "eaab920a",
   "metadata": {},
   "outputs": [],
   "source": [
    "#Loading in API credentials\n",
    "with open(\"/Users/echo/Documents/0424_Data_Enrichment/.secret/yelp_api.json\") as f:\n",
    "    login = json.load(f)\n",
    "# # Instantiate YelpAPI Variable\n",
    "yelp_api = YelpAPI(login[\"api-key\"], timeout_s=5.0)"
   ]
  },
  {
   "cell_type": "markdown",
   "id": "1c436085",
   "metadata": {},
   "source": [
    "# Define Search"
   ]
  },
  {
   "cell_type": "code",
   "execution_count": 136,
   "id": "c2422393",
   "metadata": {},
   "outputs": [],
   "source": [
    "#Setting search definitions\n",
    "LOCATION = \"Austin, TX\"\n",
    "TERM = \"dessert\""
   ]
  },
  {
   "cell_type": "code",
   "execution_count": 137,
   "id": "01510509",
   "metadata": {},
   "outputs": [
    {
     "data": {
      "text/plain": [
       "dict_keys(['businesses', 'total', 'region'])"
      ]
     },
     "execution_count": 137,
     "metadata": {},
     "output_type": "execute_result"
    }
   ],
   "source": [
    "#Searching yelp api\n",
    "results = yelp_api.search_query(location=LOCATION, term=TERM)\n",
    "results.keys()"
   ]
  },
  {
   "cell_type": "code",
   "execution_count": 138,
   "id": "31008d4d",
   "metadata": {},
   "outputs": [
    {
     "data": {
      "text/plain": [
       "3300"
      ]
     },
     "execution_count": 138,
     "metadata": {},
     "output_type": "execute_result"
    }
   ],
   "source": [
    "#Getting total results\n",
    "total_results = results[\"total\"]\n",
    "total_results"
   ]
  },
  {
   "cell_type": "code",
   "execution_count": 139,
   "id": "883b9dd3",
   "metadata": {},
   "outputs": [
    {
     "data": {
      "text/plain": [
       "20"
      ]
     },
     "execution_count": 139,
     "metadata": {},
     "output_type": "execute_result"
    }
   ],
   "source": [
    "#Getting results per page\n",
    "results_per_page = len(results[\"businesses\"])\n",
    "results_per_page"
   ]
  },
  {
   "cell_type": "markdown",
   "id": "d2e1b8f5",
   "metadata": {},
   "source": [
    "# Create JSON File Variable"
   ]
  },
  {
   "cell_type": "code",
   "execution_count": 140,
   "id": "7a8cefdf",
   "metadata": {},
   "outputs": [
    {
     "data": {
      "text/plain": [
       "'Data/results_in_austin.json'"
      ]
     },
     "execution_count": 140,
     "metadata": {},
     "output_type": "execute_result"
    }
   ],
   "source": [
    "JSON_FILE = \"Data/results_in_austin.json\"\n",
    "JSON_FILE"
   ]
  },
  {
   "cell_type": "code",
   "execution_count": 141,
   "id": "cf37f302",
   "metadata": {},
   "outputs": [
    {
     "name": "stdout",
     "output_type": "stream",
     "text": [
      "[i] Data/results_in_austin.json already exists.\n"
     ]
    }
   ],
   "source": [
    "## Check if JSON_FILE exists\n",
    "file_exists = os.path.isfile(JSON_FILE)\n",
    "## If it does not exist: \n",
    "if file_exists == False:\n",
    "    ## CREATE ANY NEEDED FOLDERS\n",
    "    # Get the Folder Name only\n",
    "    folder = os.path.dirname(JSON_FILE)\n",
    "    if len(folder) > 0:\n",
    "        # create the folder\n",
    "        os.makedirs(folder, exist_ok=True)\n",
    "    \n",
    "    ## INFORM USER AND SAVE EMPTY LIST\n",
    "    print(f\"[i] {JSON_FILE} not found. Saving empty list to file.\")\n",
    "    \n",
    "    # save an empty list\n",
    "    with open(JSON_FILE, \"w\") as f:\n",
    "        json.dump([],f)\n",
    "# If it exists, inform user\n",
    "else:\n",
    "    print(f\"[i] {JSON_FILE} already exists.\")"
   ]
  },
  {
   "cell_type": "markdown",
   "id": "c15826fd",
   "metadata": {},
   "source": [
    "# Number of Pages Needed"
   ]
  },
  {
   "cell_type": "code",
   "execution_count": 142,
   "id": "18440bc7",
   "metadata": {},
   "outputs": [
    {
     "data": {
      "text/plain": [
       "165"
      ]
     },
     "execution_count": 142,
     "metadata": {},
     "output_type": "execute_result"
    }
   ],
   "source": [
    "# Use math.ceil to round up for the total number of pages of results.\n",
    "n_pages = math.ceil((total_results/results_per_page))\n",
    "n_pages"
   ]
  },
  {
   "cell_type": "markdown",
   "id": "c328569c",
   "metadata": {},
   "source": [
    "# Creating Function"
   ]
  },
  {
   "cell_type": "code",
   "execution_count": 143,
   "id": "aaf04075",
   "metadata": {},
   "outputs": [],
   "source": [
    "def create_json_file(JSON_FILE, delete_if_exists=False):\n",
    "    ## Check if JSON_FILE exists\n",
    "    file_exists = os.path.isfile(JSON_FILE)\n",
    "    ## If it DOES exist:\n",
    "    if file_exists == True:\n",
    "        ## Check if user wants to delete if exists\n",
    "        if delete_if_exists == True:\n",
    "            print(f\"[!] {JSON_FILE} already exists. Deleting previous file ...\")\n",
    "            ## delete file and confirm it no longer exits.\n",
    "            os.remove(JSON_FILE)\n",
    "            ## Recursive call to function after old file deleted\n",
    "            create_json_file(JSON_FILE, delete_if_exists=False)\n",
    "        else:\n",
    "            print(f\"[i] {JSON_FILE} already exists.\")\n",
    "                \n",
    "                \n",
    "    ## If it does NOT exist:                \n",
    "    else:\n",
    "        ## INFORM USER AND SAVE EMPTY LIST\n",
    "        print(f\"[i] {JSON_FILE} not found. Saving empty list to new file.\")\n",
    "        ## CREATE ANY NEEDED FOLDERS\n",
    "        # Get the Folder Name only\n",
    "        folder = os.path.dirname(JSON_FILE)\n",
    "        ## If JSON_FILE included a folder:\n",
    "        if len(folder) > 0:\n",
    "            # create the folder\n",
    "            os.makedirs(folder, exist_ok=True)\n",
    "            ## Save empty list to start the json file\n",
    "            with open(JSON_FILE, \"w\") as f:\n",
    "                json.dump([],f)"
   ]
  },
  {
   "cell_type": "markdown",
   "id": "f349f892",
   "metadata": {},
   "source": [
    "# Using Custom Function"
   ]
  },
  {
   "cell_type": "code",
   "execution_count": 144,
   "id": "82bb0f27",
   "metadata": {},
   "outputs": [
    {
     "name": "stdout",
     "output_type": "stream",
     "text": [
      "[!] Data/results_in_austin.json already exists. Deleting previous file ...\n",
      "[i] Data/results_in_austin.json not found. Saving empty list to new file.\n",
      "- 0 previous results found.\n"
     ]
    },
    {
     "data": {
      "text/plain": [
       "3300"
      ]
     },
     "execution_count": 144,
     "metadata": {},
     "output_type": "execute_result"
    }
   ],
   "source": [
    "## Create a new empty json file (delete the previous if it exists)\n",
    "create_json_file(JSON_FILE, delete_if_exists=True)\n",
    "## Load previous results and use len of results for offset\n",
    "with open(JSON_FILE, \"r\") as f:\n",
    "    previous_results = json.load(f)\n",
    "## set offset based on previous results\n",
    "n_results = len(previous_results)\n",
    "print(f\"- {n_results} previous results found.\")\n",
    "# use our yelp_api variable's search_query method to perform our API call\n",
    "results = yelp_api.search_query(location=LOCATION, term=TERM, offset=n_results+1)\n",
    "## How many results total?\n",
    "total_results = results[\"total\"]\n",
    "## How many did we get the details for?\n",
    "results_per_page = len(results[\"businesses\"])\n",
    "# Use math.ceil to round up for the total number of pages of results.\n",
    "n_pages = math.ceil((results[\"total\"]-n_results/results_per_page))\n",
    "n_pages"
   ]
  },
  {
   "cell_type": "markdown",
   "id": "98255a90",
   "metadata": {},
   "source": [
    "# Query Loop"
   ]
  },
  {
   "cell_type": "code",
   "execution_count": 145,
   "id": "fc44e538",
   "metadata": {},
   "outputs": [
    {
     "data": {
      "application/vnd.jupyter.widget-view+json": {
       "model_id": "afb2adb0463644d29c26e3e207b7ead3",
       "version_major": 2,
       "version_minor": 0
      },
      "text/plain": [
       "  0%|          | 0/3300 [00:00<?, ?it/s]"
      ]
     },
     "metadata": {},
     "output_type": "display_data"
    },
    {
     "name": "stdout",
     "output_type": "stream",
     "text": [
      "Exceeded 1000 api calls. Stopping loop.\n"
     ]
    }
   ],
   "source": [
    "for i in tqdm_notebook(range(1,n_pages+1)):\n",
    "    \n",
    "    ## Read in results in progress file and check the length\n",
    "    with open(JSON_FILE, 'r') as f:\n",
    "        previous_results = json.load(f)\n",
    "    ## save number of results for to use as offset\n",
    "    n_results = len(previous_results)\n",
    "    \n",
    "    if (n_results + results_per_page) > 1000:\n",
    "        print('Exceeded 1000 api calls. Stopping loop.')\n",
    "        break\n",
    "    \n",
    "    ## use n_results as the OFFSET \n",
    "    results = yelp_api.search_query(location=LOCATION,\n",
    "                                    term=TERM, \n",
    "                                    offset=n_results)\n",
    "\n",
    "    \n",
    "    ## append new results and save to file\n",
    "    previous_results.extend(results['businesses'])\n",
    "\n",
    "    # display(previous_results)\n",
    "    with open(JSON_FILE,'w') as f:\n",
    "        json.dump(previous_results,f)\n",
    "\n",
    "    time.sleep(.2)\n",
    "\n"
   ]
  },
  {
   "cell_type": "markdown",
   "id": "7e15610d",
   "metadata": {},
   "source": [
    "# JSON File Contents\n",
    "I was able to return the results of 1,741 places before hitting the Yelp API Limit."
   ]
  },
  {
   "cell_type": "code",
   "execution_count": 149,
   "id": "0f0bf145",
   "metadata": {},
   "outputs": [
    {
     "data": {
      "text/html": [
       "<div>\n",
       "<style scoped>\n",
       "    .dataframe tbody tr th:only-of-type {\n",
       "        vertical-align: middle;\n",
       "    }\n",
       "\n",
       "    .dataframe tbody tr th {\n",
       "        vertical-align: top;\n",
       "    }\n",
       "\n",
       "    .dataframe thead th {\n",
       "        text-align: right;\n",
       "    }\n",
       "</style>\n",
       "<table border=\"1\" class=\"dataframe\">\n",
       "  <thead>\n",
       "    <tr style=\"text-align: right;\">\n",
       "      <th></th>\n",
       "      <th>id</th>\n",
       "      <th>alias</th>\n",
       "      <th>name</th>\n",
       "      <th>image_url</th>\n",
       "      <th>is_closed</th>\n",
       "      <th>url</th>\n",
       "      <th>review_count</th>\n",
       "      <th>categories</th>\n",
       "      <th>rating</th>\n",
       "      <th>coordinates</th>\n",
       "      <th>transactions</th>\n",
       "      <th>location</th>\n",
       "      <th>phone</th>\n",
       "      <th>display_phone</th>\n",
       "      <th>distance</th>\n",
       "      <th>price</th>\n",
       "    </tr>\n",
       "  </thead>\n",
       "  <tbody>\n",
       "    <tr>\n",
       "      <th>0</th>\n",
       "      <td>l01HLUtX0_D-w0pfIxi2AA</td>\n",
       "      <td>uncle-tetsu-austin</td>\n",
       "      <td>Uncle Tetsu</td>\n",
       "      <td>https://s3-media2.fl.yelpcdn.com/bphoto/UdApoX...</td>\n",
       "      <td>False</td>\n",
       "      <td>https://www.yelp.com/biz/uncle-tetsu-austin?ad...</td>\n",
       "      <td>11</td>\n",
       "      <td>[{'alias': 'desserts', 'title': 'Desserts'}]</td>\n",
       "      <td>4.5</td>\n",
       "      <td>{'latitude': 30.336683909673457, 'longitude': ...</td>\n",
       "      <td>[]</td>\n",
       "      <td>{'address1': '6929 Airport Blvd', 'address2': ...</td>\n",
       "      <td>+17372738639</td>\n",
       "      <td>(737) 273-8639</td>\n",
       "      <td>5275.873270</td>\n",
       "      <td>NaN</td>\n",
       "    </tr>\n",
       "    <tr>\n",
       "      <th>1</th>\n",
       "      <td>BaOt2n1PawRKbwlDiuh14w</td>\n",
       "      <td>sweet-memes-austin-austin</td>\n",
       "      <td>Sweet Memes - Austin</td>\n",
       "      <td>https://s3-media4.fl.yelpcdn.com/bphoto/3uxbhT...</td>\n",
       "      <td>False</td>\n",
       "      <td>https://www.yelp.com/biz/sweet-memes-austin-au...</td>\n",
       "      <td>96</td>\n",
       "      <td>[{'alias': 'desserts', 'title': 'Desserts'}, {...</td>\n",
       "      <td>4.5</td>\n",
       "      <td>{'latitude': 30.22602, 'longitude': -97.76184}</td>\n",
       "      <td>[]</td>\n",
       "      <td>{'address1': '3801 S Congress Ave', 'address2'...</td>\n",
       "      <td>+15128933389</td>\n",
       "      <td>(512) 893-3389</td>\n",
       "      <td>8804.411540</td>\n",
       "      <td>$$</td>\n",
       "    </tr>\n",
       "    <tr>\n",
       "      <th>2</th>\n",
       "      <td>3sLc73JikDYNwE3vd7-cZw</td>\n",
       "      <td>gourdoughs-big-fat-donuts-austin</td>\n",
       "      <td>Gourdough's Big Fat Donuts</td>\n",
       "      <td>https://s3-media1.fl.yelpcdn.com/bphoto/GKh1IY...</td>\n",
       "      <td>False</td>\n",
       "      <td>https://www.yelp.com/biz/gourdoughs-big-fat-do...</td>\n",
       "      <td>3769</td>\n",
       "      <td>[{'alias': 'donuts', 'title': 'Donuts'}]</td>\n",
       "      <td>4.5</td>\n",
       "      <td>{'latitude': 30.24968, 'longitude': -97.75474}</td>\n",
       "      <td>[delivery, pickup]</td>\n",
       "      <td>{'address1': '1503 South 1st St', 'address2': ...</td>\n",
       "      <td>+15129129070</td>\n",
       "      <td>(512) 912-9070</td>\n",
       "      <td>6181.390821</td>\n",
       "      <td>$$</td>\n",
       "    </tr>\n",
       "    <tr>\n",
       "      <th>3</th>\n",
       "      <td>HPYRea5mrOFv9VvOdP4AsQ</td>\n",
       "      <td>pie-bar-austin</td>\n",
       "      <td>Pie Bar</td>\n",
       "      <td>https://s3-media2.fl.yelpcdn.com/bphoto/IImh3h...</td>\n",
       "      <td>False</td>\n",
       "      <td>https://www.yelp.com/biz/pie-bar-austin?adjust...</td>\n",
       "      <td>92</td>\n",
       "      <td>[{'alias': 'desserts', 'title': 'Desserts'}, {...</td>\n",
       "      <td>4.5</td>\n",
       "      <td>{'latitude': 30.16954977494928, 'longitude': -...</td>\n",
       "      <td>[delivery, pickup]</td>\n",
       "      <td>{'address1': '8900 S Congress Ave', 'address2'...</td>\n",
       "      <td>+15125820098</td>\n",
       "      <td>(512) 582-0098</td>\n",
       "      <td>15365.133129</td>\n",
       "      <td>$$</td>\n",
       "    </tr>\n",
       "    <tr>\n",
       "      <th>4</th>\n",
       "      <td>v_FQkBIJUamTwg7uP704bg</td>\n",
       "      <td>omg-squee-austin</td>\n",
       "      <td>Omg Squee</td>\n",
       "      <td>https://s3-media2.fl.yelpcdn.com/bphoto/ZxQDzB...</td>\n",
       "      <td>False</td>\n",
       "      <td>https://www.yelp.com/biz/omg-squee-austin?adju...</td>\n",
       "      <td>280</td>\n",
       "      <td>[{'alias': 'desserts', 'title': 'Desserts'}, {...</td>\n",
       "      <td>4.5</td>\n",
       "      <td>{'latitude': 30.26115, 'longitude': -97.69784}</td>\n",
       "      <td>[delivery]</td>\n",
       "      <td>{'address1': '4607 Bolm Rd', 'address2': 'Ste ...</td>\n",
       "      <td>+15124359113</td>\n",
       "      <td>(512) 435-9113</td>\n",
       "      <td>7550.169279</td>\n",
       "      <td>$</td>\n",
       "    </tr>\n",
       "  </tbody>\n",
       "</table>\n",
       "</div>"
      ],
      "text/plain": [
       "                       id                             alias  \\\n",
       "0  l01HLUtX0_D-w0pfIxi2AA                uncle-tetsu-austin   \n",
       "1  BaOt2n1PawRKbwlDiuh14w         sweet-memes-austin-austin   \n",
       "2  3sLc73JikDYNwE3vd7-cZw  gourdoughs-big-fat-donuts-austin   \n",
       "3  HPYRea5mrOFv9VvOdP4AsQ                    pie-bar-austin   \n",
       "4  v_FQkBIJUamTwg7uP704bg                  omg-squee-austin   \n",
       "\n",
       "                         name  \\\n",
       "0                 Uncle Tetsu   \n",
       "1        Sweet Memes - Austin   \n",
       "2  Gourdough's Big Fat Donuts   \n",
       "3                     Pie Bar   \n",
       "4                   Omg Squee   \n",
       "\n",
       "                                           image_url  is_closed  \\\n",
       "0  https://s3-media2.fl.yelpcdn.com/bphoto/UdApoX...      False   \n",
       "1  https://s3-media4.fl.yelpcdn.com/bphoto/3uxbhT...      False   \n",
       "2  https://s3-media1.fl.yelpcdn.com/bphoto/GKh1IY...      False   \n",
       "3  https://s3-media2.fl.yelpcdn.com/bphoto/IImh3h...      False   \n",
       "4  https://s3-media2.fl.yelpcdn.com/bphoto/ZxQDzB...      False   \n",
       "\n",
       "                                                 url  review_count  \\\n",
       "0  https://www.yelp.com/biz/uncle-tetsu-austin?ad...            11   \n",
       "1  https://www.yelp.com/biz/sweet-memes-austin-au...            96   \n",
       "2  https://www.yelp.com/biz/gourdoughs-big-fat-do...          3769   \n",
       "3  https://www.yelp.com/biz/pie-bar-austin?adjust...            92   \n",
       "4  https://www.yelp.com/biz/omg-squee-austin?adju...           280   \n",
       "\n",
       "                                          categories  rating  \\\n",
       "0       [{'alias': 'desserts', 'title': 'Desserts'}]     4.5   \n",
       "1  [{'alias': 'desserts', 'title': 'Desserts'}, {...     4.5   \n",
       "2           [{'alias': 'donuts', 'title': 'Donuts'}]     4.5   \n",
       "3  [{'alias': 'desserts', 'title': 'Desserts'}, {...     4.5   \n",
       "4  [{'alias': 'desserts', 'title': 'Desserts'}, {...     4.5   \n",
       "\n",
       "                                         coordinates        transactions  \\\n",
       "0  {'latitude': 30.336683909673457, 'longitude': ...                  []   \n",
       "1     {'latitude': 30.22602, 'longitude': -97.76184}                  []   \n",
       "2     {'latitude': 30.24968, 'longitude': -97.75474}  [delivery, pickup]   \n",
       "3  {'latitude': 30.16954977494928, 'longitude': -...  [delivery, pickup]   \n",
       "4     {'latitude': 30.26115, 'longitude': -97.69784}          [delivery]   \n",
       "\n",
       "                                            location         phone  \\\n",
       "0  {'address1': '6929 Airport Blvd', 'address2': ...  +17372738639   \n",
       "1  {'address1': '3801 S Congress Ave', 'address2'...  +15128933389   \n",
       "2  {'address1': '1503 South 1st St', 'address2': ...  +15129129070   \n",
       "3  {'address1': '8900 S Congress Ave', 'address2'...  +15125820098   \n",
       "4  {'address1': '4607 Bolm Rd', 'address2': 'Ste ...  +15124359113   \n",
       "\n",
       "    display_phone      distance price  \n",
       "0  (737) 273-8639   5275.873270   NaN  \n",
       "1  (512) 893-3389   8804.411540    $$  \n",
       "2  (512) 912-9070   6181.390821    $$  \n",
       "3  (512) 582-0098  15365.133129    $$  \n",
       "4  (512) 435-9113   7550.169279     $  "
      ]
     },
     "execution_count": 149,
     "metadata": {},
     "output_type": "execute_result"
    }
   ],
   "source": [
    "df = pd.read_json(JSON_FILE)\n",
    "df.head()"
   ]
  },
  {
   "cell_type": "code",
   "execution_count": 147,
   "id": "b123c6e4",
   "metadata": {},
   "outputs": [
    {
     "name": "stdout",
     "output_type": "stream",
     "text": [
      "<class 'pandas.core.frame.DataFrame'>\n",
      "RangeIndex: 1000 entries, 0 to 999\n",
      "Data columns (total 16 columns):\n",
      " #   Column         Non-Null Count  Dtype  \n",
      "---  ------         --------------  -----  \n",
      " 0   id             1000 non-null   object \n",
      " 1   alias          1000 non-null   object \n",
      " 2   name           1000 non-null   object \n",
      " 3   image_url      1000 non-null   object \n",
      " 4   is_closed      1000 non-null   bool   \n",
      " 5   url            1000 non-null   object \n",
      " 6   review_count   1000 non-null   int64  \n",
      " 7   categories     1000 non-null   object \n",
      " 8   rating         1000 non-null   float64\n",
      " 9   coordinates    1000 non-null   object \n",
      " 10  transactions   1000 non-null   object \n",
      " 11  location       1000 non-null   object \n",
      " 12  phone          1000 non-null   object \n",
      " 13  display_phone  1000 non-null   object \n",
      " 14  distance       1000 non-null   float64\n",
      " 15  price          695 non-null    object \n",
      "dtypes: bool(1), float64(2), int64(1), object(12)\n",
      "memory usage: 118.3+ KB\n"
     ]
    }
   ],
   "source": [
    "df.info()"
   ]
  },
  {
   "cell_type": "markdown",
   "id": "7aef4e03",
   "metadata": {},
   "source": [
    "# Converting to .csv.gz"
   ]
  },
  {
   "cell_type": "code",
   "execution_count": 148,
   "id": "316b561a",
   "metadata": {},
   "outputs": [],
   "source": [
    "#convert the file to .csv.gz\n",
    "csv_file = JSON_FILE.replace(\".json\",\".csv.gz\")\n",
    "csv_file\n",
    "#Save it as a compressed csv (to save space)\n",
    "df.to_csv(csv_file, compression=\"gzip\", index=False)"
   ]
  }
 ],
 "metadata": {
  "kernelspec": {
   "display_name": "Python (dojo-env)",
   "language": "python",
   "name": "dojo-env"
  },
  "language_info": {
   "codemirror_mode": {
    "name": "ipython",
    "version": 3
   },
   "file_extension": ".py",
   "mimetype": "text/x-python",
   "name": "python",
   "nbconvert_exporter": "python",
   "pygments_lexer": "ipython3",
   "version": "3.9.15"
  },
  "toc": {
   "base_numbering": 1,
   "nav_menu": {},
   "number_sections": true,
   "sideBar": true,
   "skip_h1_title": false,
   "title_cell": "Table of Contents",
   "title_sidebar": "Contents",
   "toc_cell": false,
   "toc_position": {},
   "toc_section_display": true,
   "toc_window_display": false
  },
  "varInspector": {
   "cols": {
    "lenName": 16,
    "lenType": 16,
    "lenVar": 40
   },
   "kernels_config": {
    "python": {
     "delete_cmd_postfix": "",
     "delete_cmd_prefix": "del ",
     "library": "var_list.py",
     "varRefreshCmd": "print(var_dic_list())"
    },
    "r": {
     "delete_cmd_postfix": ") ",
     "delete_cmd_prefix": "rm(",
     "library": "var_list.r",
     "varRefreshCmd": "cat(var_dic_list()) "
    }
   },
   "types_to_exclude": [
    "module",
    "function",
    "builtin_function_or_method",
    "instance",
    "_Feature"
   ],
   "window_display": false
  }
 },
 "nbformat": 4,
 "nbformat_minor": 5
}
